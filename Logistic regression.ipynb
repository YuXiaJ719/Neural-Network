{
 "cells": [
  {
   "cell_type": "code",
   "execution_count": 2,
   "metadata": {
    "collapsed": true
   },
   "outputs": [],
   "source": [
    "import pandas as pd\n",
    "import numpy as np\n",
    "import sklearn\n",
    "import random\n",
    "import sys\n",
    "\n",
    "random.seed(18)"
   ]
  },
  {
   "cell_type": "markdown",
   "metadata": {},
   "source": [
    "## LogisticRegression without vectorization"
   ]
  },
  {
   "cell_type": "code",
   "execution_count": 3,
   "metadata": {
    "collapsed": true
   },
   "outputs": [],
   "source": [
    "# To calculate the input value of sigmoid function\n",
    "def cal_z(arr, w, b):\n",
    "    return np.dot(arr, w) + b\n",
    "\n",
    "# To calculate the input value for derivative of loss function\n",
    "def sigmoid(z):\n",
    "    return 1 / (1 + np.exp(-z))\n",
    "\n",
    "# To calculate derivetive of loss function\n",
    "def cal_dz(a, y):\n",
    "    return a - y\n",
    "    \n",
    "# Main function of Logistic regression (Uisng row vectors)\n",
    "def LogisticRegression(data, Y, learning_rate = 0.0001, loops=100):\n",
    "\n",
    "    dimension = data.shape[1] # Get the dimension of each data\n",
    "    samplesize = data.shape[0] # Get the size of dataset\n",
    "    \n",
    "    b = 0\n",
    "    w = np.zeros((dimension, 1))\n",
    "    \n",
    "    for loop in range(loops): # Loop dataset to convergence\n",
    "        db = 0\n",
    "        dw = np.zeros((dimension, 1))\n",
    "        \n",
    "        for ind_d in range(samplesize): # Without vectorization, each instance in dataset should be take into consideration\n",
    "            z = cal_z(data[ind_d], w, b)\n",
    "            a = sigmoid(z)\n",
    "            dz = cal_dz(a, Y[ind_d]) # Calculate dz for every instance in dataset\n",
    "            for ind_w in range(dimension): # calculate dw for each variable\n",
    "                dw[ind_w] += data[ind_d][ind_w] * dz\n",
    "                db += dz\n",
    "                \n",
    "        # Take average of the whole derivatives\n",
    "        db = db / samplesize\n",
    "        dw = dw / samplesize\n",
    "    \n",
    "        # Change the b and w\n",
    "        b = b - learning_rate * db\n",
    "        w = w - learning_rate * dw\n",
    "        \n",
    "    return b, w"
   ]
  },
  {
   "cell_type": "code",
   "execution_count": 4,
   "metadata": {},
   "outputs": [],
   "source": [
    "X = np.array([[1, 2, 3, 4, 5], [2, 3, 4, 6, 7], [4, 6, 8, 9, 0]])\n",
    "Y = np.array([0, 1, 1])\n",
    "# lr = sklearn.linear_model.LogisticRegression(penalty=\"l2\")\n",
    "# lr.fit(X, Y)\n",
    "# lr.coef_\n",
    "# lr.intercept_"
   ]
  },
  {
   "cell_type": "markdown",
   "metadata": {},
   "source": [
    "## LogisticRegression applying vectorization"
   ]
  },
  {
   "cell_type": "code",
   "execution_count": 5,
   "metadata": {
    "collapsed": true
   },
   "outputs": [],
   "source": [
    "def cal_z_vec(X, W, b):\n",
    "    return np.dot(X, W) + b\n",
    "\n",
    "def sigmoid_vec(Z):\n",
    "    return 1 / (1 + np.exp(-Z))\n",
    "\n",
    "def cal_dz_vec(A, Y):\n",
    "    return A - Y.reshape(-1, 1)\n",
    "\n",
    "def LogisticRegression_vec(X, Y, learning_rate = 0.0001, loops=100): # Using row vectors\n",
    "    dimension = X.shape[1]\n",
    "    samplesize = X.shape[0]\n",
    "    \n",
    "    W = np.zeros((dimension, 1))\n",
    "    b = 0\n",
    "    \n",
    "    for i in range(loops):\n",
    "        Z = cal_z_vec(X, W, b) \n",
    "        A = sigmoid_vec(Z)\n",
    "        dz = cal_dz_vec(A, Y)\n",
    "        dw = np.dot(X.T, dz) / samplesize\n",
    "        db = np.sum(dz) / samplesize\n",
    "        \n",
    "        b = b - learning_rate * db\n",
    "        W = W - learning_rate * dw\n",
    "        \n",
    "    return b, W"
   ]
  },
  {
   "cell_type": "code",
   "execution_count": 6,
   "metadata": {},
   "outputs": [],
   "source": [
    "# LogisticRegression_vec(X, Y)"
   ]
  }
 ],
 "metadata": {
  "kernelspec": {
   "display_name": "Python 3",
   "language": "python",
   "name": "python3"
  },
  "language_info": {
   "codemirror_mode": {
    "name": "ipython",
    "version": 3
   },
   "file_extension": ".py",
   "mimetype": "text/x-python",
   "name": "python",
   "nbconvert_exporter": "python",
   "pygments_lexer": "ipython3",
   "version": "3.6.1"
  }
 },
 "nbformat": 4,
 "nbformat_minor": 2
}
