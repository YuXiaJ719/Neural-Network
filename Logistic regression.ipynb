{
 "cells": [
  {
   "cell_type": "code",
   "execution_count": 165,
   "metadata": {
    "collapsed": true
   },
   "outputs": [],
   "source": [
    "import pandas as pd\n",
    "import numpy as np\n",
    "import sklearn\n",
    "import random\n",
    "import sys\n",
    "\n",
    "random.seed(18)"
   ]
  },
  {
   "cell_type": "markdown",
   "metadata": {},
   "source": [
    "## LogisticRegression without vectorization"
   ]
  },
  {
   "cell_type": "code",
   "execution_count": 219,
   "metadata": {
    "collapsed": true
   },
   "outputs": [],
   "source": [
    "# To calculate the input value of sigmoid function\n",
    "def cal_z(arr, w, b):\n",
    "    return np.dot(arr, w.T) + b\n",
    "\n",
    "# To calculate the input value for derivative of loss function\n",
    "def sigmoid(z):\n",
    "    return 1 / (1 + np.exp(-z))\n",
    "\n",
    "# To calculate derivetive of loss function\n",
    "def cal_dz(a, y):\n",
    "    return a - y\n",
    "    \n",
    "# Main function of Logistic regression (Uisng row vectors)\n",
    "def LogisticRegression(data, Y, learning_rate = 0.0001, loops=100):\n",
    "\n",
    "    dimension = data.shape[1] # Get the dimension of each data\n",
    "    samplesize = data.shape[0] # Get the size of dataset\n",
    "    \n",
    "    b = 0\n",
    "    w = np.zeros((1, dimension))\n",
    "    \n",
    "    for loop in range(loops): # Loop dataset to convergence\n",
    "        db = 0\n",
    "        dw = np.zeros((1, dimension))\n",
    "        \n",
    "        for ind_d in range(samplesize): # Without vectorization, each instance in dataset should be take into consideration\n",
    "            z = cal_z(data[ind_d], w, b)\n",
    "            a = sigmoid(z)\n",
    "            dz = cal_dz(a, Y[ind_d]) # Calculate dz for every instance in dataset\n",
    "            for ind_w in range(dimension): # calculate dw for each variable\n",
    "                dw[0][ind_w] += data[ind_d][ind_w] * dz\n",
    "                db += dz\n",
    "                \n",
    "        # Take average of the whole derivatives\n",
    "        db = db / samplesize\n",
    "        dw = dw / samplesize\n",
    "    \n",
    "        # Change the b and w\n",
    "        b = b - learning_rate * db\n",
    "        w = w - learning_rate * dw\n",
    "        \n",
    "    return b, w"
   ]
  },
  {
   "cell_type": "code",
   "execution_count": 220,
   "metadata": {
    "collapsed": true
   },
   "outputs": [],
   "source": [
    "X = np.array([[1, 2, 3, 4, 5], [2, 3, 4, 6, 7], [4, 6, 8, 9, 0]])\n",
    "Y = np.array([0, 1, 1])"
   ]
  },
  {
   "cell_type": "code",
   "execution_count": 221,
   "metadata": {},
   "outputs": [
    {
     "data": {
      "text/plain": [
       "(array([ 0.00678334]),\n",
       " array([[ 0.00747909,  0.01035258,  0.01322608,  0.01615468,  0.00234304]]))"
      ]
     },
     "execution_count": 221,
     "metadata": {},
     "output_type": "execute_result"
    }
   ],
   "source": [
    "LogisticRegression(X, Y)"
   ]
  },
  {
   "cell_type": "code",
   "execution_count": 222,
   "metadata": {},
   "outputs": [
    {
     "data": {
      "text/plain": [
       "LogisticRegression(C=1.0, class_weight=None, dual=False, fit_intercept=True,\n",
       "          intercept_scaling=1, max_iter=100, multi_class='ovr', n_jobs=1,\n",
       "          penalty='l2', random_state=None, solver='liblinear', tol=0.0001,\n",
       "          verbose=0, warm_start=False)"
      ]
     },
     "execution_count": 222,
     "metadata": {},
     "output_type": "execute_result"
    }
   ],
   "source": [
    "lr = sklearn.linear_model.LogisticRegression(penalty=\"l2\")\n",
    "lr.fit(X, Y)"
   ]
  },
  {
   "cell_type": "code",
   "execution_count": 223,
   "metadata": {},
   "outputs": [
    {
     "data": {
      "text/plain": [
       "array([[ 0.27450593,  0.13979879,  0.00509164,  0.20360991, -0.20971867]])"
      ]
     },
     "execution_count": 223,
     "metadata": {},
     "output_type": "execute_result"
    }
   ],
   "source": [
    "lr.coef_"
   ]
  },
  {
   "cell_type": "code",
   "execution_count": 224,
   "metadata": {},
   "outputs": [
    {
     "data": {
      "text/plain": [
       "array([-0.16003637])"
      ]
     },
     "execution_count": 224,
     "metadata": {},
     "output_type": "execute_result"
    }
   ],
   "source": [
    "lr.intercept_"
   ]
  },
  {
   "cell_type": "markdown",
   "metadata": {},
   "source": [
    "## LogisticRegression applying vectorization"
   ]
  },
  {
   "cell_type": "code",
   "execution_count": 226,
   "metadata": {
    "collapsed": true
   },
   "outputs": [],
   "source": [
    "def cal_z_vec(X, W, b):\n",
    "    return np.dot(W, X.T) + b\n",
    "\n",
    "def sigmoid_vec(Z):\n",
    "    return 1 / (1 + np.exp(-Z))\n",
    "\n",
    "def cal_dz_vec(A, Y):\n",
    "    return A - Y\n",
    "\n",
    "def LogisticRegression_vec(X, Y, learning_rate = 0.0001, loops=100): # Using row vectors\n",
    "    dimension = X.shape[1]\n",
    "    samplesize = X.shape[0]\n",
    "    \n",
    "    W = np.zeros((1, dimension))\n",
    "    b = 0\n",
    "    \n",
    "    for i in range(loops):\n",
    "        Z = cal_z_vec(X, W, b)\n",
    "        A = sigmoid_vec(Z)\n",
    "        dz = cal_dz_vec(A, Y)\n",
    "\n",
    "        dw = np.dot(dz, X) / samplesize\n",
    "        db = np.sum(dz) / samplesize\n",
    "        \n",
    "        b = b - learning_rate * db\n",
    "        W = W - learning_rate * dw\n",
    "        \n",
    "    return b, W"
   ]
  },
  {
   "cell_type": "code",
   "execution_count": 227,
   "metadata": {},
   "outputs": [
    {
     "data": {
      "text/plain": [
       "(0.0013632543438255387,\n",
       " array([[ 0.00749425,  0.01037646,  0.01325868,  0.01619606,  0.00236973]]))"
      ]
     },
     "execution_count": 227,
     "metadata": {},
     "output_type": "execute_result"
    }
   ],
   "source": [
    "LogisticRegression_vec(X, Y)"
   ]
  }
 ],
 "metadata": {
  "kernelspec": {
   "display_name": "Python 3",
   "language": "python",
   "name": "python3"
  },
  "language_info": {
   "codemirror_mode": {
    "name": "ipython",
    "version": 3
   },
   "file_extension": ".py",
   "mimetype": "text/x-python",
   "name": "python",
   "nbconvert_exporter": "python",
   "pygments_lexer": "ipython3",
   "version": "3.6.1"
  }
 },
 "nbformat": 4,
 "nbformat_minor": 2
}
