{
 "cells": [
  {
   "cell_type": "code",
   "execution_count": 87,
   "metadata": {
    "collapsed": true
   },
   "outputs": [],
   "source": [
    "import pandas as pd\n",
    "import numpy as np\n",
    "import sklearn\n",
    "import sys"
   ]
  },
  {
   "cell_type": "markdown",
   "metadata": {},
   "source": [
    "### LogisticRegression without vectorization"
   ]
  },
  {
   "cell_type": "code",
   "execution_count": 88,
   "metadata": {
    "collapsed": true
   },
   "outputs": [],
   "source": [
    "# To calculate the input value of sigmoid function\n",
    "def cal_z(arr, w, b):\n",
    "    return np.dot(arr, w) + b\n",
    "\n",
    "# To calculate the input value for derivative of loss function\n",
    "def sigmoid(z):\n",
    "    return 1 / (1 + np.exp(-z))\n",
    "\n",
    "# To calculate derivetive of loss function\n",
    "def cal_dz(arr, y, w, b):\n",
    "    return sigmoid(cal_z(arr, w, b)) - y\n",
    "    \n",
    "# Main function of Logistic regression (Uisng row vectors)\n",
    "def LogisticRegression(X, Y, learning_rate = 0.0001, loops=1000):\n",
    "\n",
    "    dimension = X.shape[1] # Get the dimension of each data\n",
    "    samplesize = X.shape[0] # Get the size of dataset\n",
    "    data = X\n",
    "    \n",
    "    b = 0\n",
    "    w = np.array([0 for i in range(dimension)])\n",
    "    \n",
    "    for loop in range(loops): # Loop dataset to convergence\n",
    "        db = 0\n",
    "        dw = np.array([0 for i in range(dimension)])\n",
    "        \n",
    "        for ind_d in range(samplesize): # Without vectorization, each instance in dataset should be take into consideration\n",
    "            dz = cal_dz(data[ind_d], Y[ind_d], w, b) # Calculate dz for every instance in dataset\n",
    "            for ind_w in range(dimension): # calculate dw for every variable\n",
    "                dw[ind_w] += data[ind_d][ind_w] * dz\n",
    "                db += dz\n",
    "        # Take average of the whole derivatives\n",
    "        db = db / samplesize\n",
    "        dw = dw / samplesize\n",
    "        \n",
    "        # change the b and w\n",
    "        b = b - learning_rate * db\n",
    "        w = w - learning_rate * dw\n",
    "    \n",
    "    return b, w"
   ]
  },
  {
   "cell_type": "code",
   "execution_count": 89,
   "metadata": {
    "collapsed": true
   },
   "outputs": [],
   "source": [
    "X = np.array([[1, 2, 3, 4, 5], [2, 3, 4, 6, 7], [4, 6, 8, 9, 0]])\n",
    "Y = np.array([0, 1, 1])"
   ]
  },
  {
   "cell_type": "code",
   "execution_count": 90,
   "metadata": {},
   "outputs": [
    {
     "data": {
      "text/plain": [
       "(0.010811150446888736,\n",
       " array([ 0.0193    ,  0.04346667,  0.05966667,  0.07043333,  0.00576667]))"
      ]
     },
     "execution_count": 90,
     "metadata": {},
     "output_type": "execute_result"
    }
   ],
   "source": [
    "LogisticRegression(X, Y)"
   ]
  },
  {
   "cell_type": "code",
   "execution_count": 91,
   "metadata": {},
   "outputs": [
    {
     "data": {
      "text/plain": [
       "LogisticRegression(C=1.0, class_weight=None, dual=False, fit_intercept=True,\n",
       "          intercept_scaling=1, max_iter=100, multi_class='ovr', n_jobs=1,\n",
       "          penalty='l2', random_state=None, solver='liblinear', tol=0.0001,\n",
       "          verbose=0, warm_start=False)"
      ]
     },
     "execution_count": 91,
     "metadata": {},
     "output_type": "execute_result"
    }
   ],
   "source": [
    "lr = sklearn.linear_model.LogisticRegression()\n",
    "lr.fit(X, Y)"
   ]
  },
  {
   "cell_type": "code",
   "execution_count": 92,
   "metadata": {},
   "outputs": [
    {
     "data": {
      "text/plain": [
       "array([[ 0.27450593,  0.13979879,  0.00509164,  0.20360991, -0.20971867]])"
      ]
     },
     "execution_count": 92,
     "metadata": {},
     "output_type": "execute_result"
    }
   ],
   "source": [
    "lr.coef_"
   ]
  },
  {
   "cell_type": "code",
   "execution_count": 93,
   "metadata": {},
   "outputs": [
    {
     "data": {
      "text/plain": [
       "array([-0.16003637])"
      ]
     },
     "execution_count": 93,
     "metadata": {},
     "output_type": "execute_result"
    }
   ],
   "source": [
    "lr.intercept_"
   ]
  }
 ],
 "metadata": {
  "kernelspec": {
   "display_name": "Python 3",
   "language": "python",
   "name": "python3"
  },
  "language_info": {
   "codemirror_mode": {
    "name": "ipython",
    "version": 3
   },
   "file_extension": ".py",
   "mimetype": "text/x-python",
   "name": "python",
   "nbconvert_exporter": "python",
   "pygments_lexer": "ipython3",
   "version": "3.6.1"
  }
 },
 "nbformat": 4,
 "nbformat_minor": 2
}
