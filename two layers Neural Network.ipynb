{
 "cells": [
  {
   "cell_type": "code",
   "execution_count": 6,
   "metadata": {},
   "outputs": [],
   "source": [
    "import numpy as np\n",
    "import random as rd\n",
    "from sklearn.linear_model import LogisticRegression\n",
    "from sklearn.datasets import load_breast_cancer\n",
    "\n",
    "data = load_breast_cancer()\n",
    "X = data['data'].T\n",
    "Y = data['target'].reshape(1, -1)"
   ]
  },
  {
   "cell_type": "code",
   "execution_count": 7,
   "metadata": {
    "collapsed": true
   },
   "outputs": [],
   "source": [
    "# Define activation function\n",
    "def sigmoid(Z):\n",
    "    return 1 / (1 + np.exp(-Z))\n",
    "\n",
    "def tanh(Z):\n",
    "    return (np.exp(Z) - np.exp(-Z)) / (np.exp(Z) + np.exp(-Z))"
   ]
  },
  {
   "cell_type": "code",
   "execution_count": 11,
   "metadata": {
    "collapsed": true
   },
   "outputs": [],
   "source": [
    "# Input data using column vectors \n",
    "# Get the size of your neural network\n",
    "# Use sigmoid function as activation function of hidden layer\n",
    "\n",
    "def layer_sizes(X, Y, n_h = 4):\n",
    "    n_x = X.shape[0]\n",
    "    n_h = n_h\n",
    "    n_y = Y.shape[0]\n",
    "    \n",
    "    return n_x, n_h, n_y\n",
    "\n",
    "def initialize_parameters(n_x, n_h, n_y, coef = 0.01):\n",
    "    \n",
    "    np.random.seed(3)\n",
    "    W1 = np.random.randn(n_h, n_x) * coef\n",
    "    b1 = np.zeros((n_h, 1))\n",
    "    W2 = np.random.randn(n_y, n_h) * coef\n",
    "    b2 = np.zeros((n_y, 1))\n",
    "    \n",
    "    parameters = {\"W1\" : W1,\n",
    "                  \"b1\" : b1,\n",
    "                  \"W2\" : W2,\n",
    "                  \"b2\" : b2}\n",
    "    assert(W1.shape == (n_h, n_x))\n",
    "    assert(b1.shape == (n_h, 1))\n",
    "    assert(W2.shape == (n_y, n_h))\n",
    "    assert(b2.shape == (n_y, 1))\n",
    "    \n",
    "    return parameters\n",
    "\n",
    "def forward_propagation(X, parameters):\n",
    "    W1 = parameters[\"W1\"]\n",
    "    b1 = parameters[\"b1\"]\n",
    "    W2 = parameters[\"W2\"]\n",
    "    b2 = parameters[\"b2\"]\n",
    "    Z1 = np.dot(W1, X) + b1\n",
    "    A1 = sigmoid(Z1)\n",
    "    Z2 = np.dot(W2, A1) + b2\n",
    "    A2 = sigmoid(Z2)\n",
    "    \n",
    "    intermediate_parameters = {\"Z1\" : Z1,\n",
    "                    \"A1\" : A1,\n",
    "                    \"Z2\" : Z2,\n",
    "                    \"A2\" : A2}\n",
    "    \n",
    "    assert(A2.shape == (1, X.shape[1]))\n",
    "    \n",
    "    return intermediate_parameters\n",
    "\n",
    "def compute_cost(Y, intermediate_parameters):\n",
    "    m = Y.shape[1] # Get the size of datasize\n",
    "    A2 = intermediate_parameters[\"A2\"]\n",
    "    logprobs = -np.multiply(np.log(A2), Y) - np.multiply(np.log(1 - A2), 1 - Y)\n",
    "    cost = -np.sum(logprobs) / m\n",
    "    cost = np.squeeze(cost)\n",
    "    \n",
    "    return cost\n",
    "    \n",
    "def back_propagation(parameters, intermediate_parameters, X, Y):\n",
    "    m = X.shape[1]\n",
    "    \n",
    "    W2 = parameters[\"W2\"]\n",
    "    A1 = intermediate_parameters[\"A1\"]\n",
    "    A2 = intermediate_parameters[\"A2\"]\n",
    "    Z1 = intermediate_parameters[\"Z1\"]\n",
    "    \n",
    "    # Calculate the derivatives\n",
    "    dZ2 = A2 - Y\n",
    "    dW2 = np.dot(dZ2, A1.T) / m\n",
    "    db2 = np.sum(dZ2, axis=1, keepdims = True) / m\n",
    "    dZ1 = np.dot(W2.T, dZ2) * A1*(1 - A1)\n",
    "    dW1 = np.dot(dZ1, X.T) / m\n",
    "    db1 = np.sum(dZ1, axis=1, keepdims=True) / m\n",
    "    \n",
    "    derivatives = {\"dW1\" : dW1,\n",
    "                   \"dW2\" : dW2,\n",
    "                   \"db1\" : db1,\n",
    "                   \"db2\" : db2}\n",
    "    \n",
    "    return derivatives\n",
    "\n",
    "def update_parameters(parameters, derivatives, learning_rate = 0.01):\n",
    "    W1 = parameters[\"W1\"]\n",
    "    W2 = parameters[\"W2\"]\n",
    "    b1 = parameters[\"b1\"]\n",
    "    b2 = parameters[\"b2\"]\n",
    "    \n",
    "    dW1 = derivatives[\"dW1\"]\n",
    "    dW2 = derivatives[\"dW2\"]\n",
    "    db1 = derivatives[\"db1\"]\n",
    "    db2 = derivatives[\"db2\"]\n",
    "    \n",
    "    parameters[\"W1\"] = W1 - learning_rate * dW1\n",
    "    parameters[\"W2\"] = W2 - learning_rate * dW2\n",
    "    parameters[\"b1\"] = b1 - learning_rate * db1\n",
    "    parameters[\"b2\"] = b2 - learning_rate * db2\n",
    "    \n",
    "    return parameters\n",
    "    \n",
    "def nn_model(X, Y, n_h, num_iterations = 1000, learning_rate = 0.01):\n",
    "    np.random.seed(3)\n",
    "    n_x, n_h, n_y = layer_sizes(X, Y, n_h)\n",
    "    \n",
    "    parameters = initialize_parameters(n_x, n_h, n_y)\n",
    "    W1 = parameters[\"W1\"]\n",
    "    W2 = parameters[\"W2\"]\n",
    "    b1 = parameters[\"b1\"]\n",
    "    b2 = parameters[\"b2\"]\n",
    "    \n",
    "    for i in range(num_iterations):\n",
    "        intermediate_parameters = forward_propagation(X, parameters)\n",
    "        cost = compute_cost(Y, intermediate_parameters)\n",
    "        derivatives = back_propagation(parameters, intermediate_parameters, X, Y)\n",
    "        parameters = update_parameters(parameters, derivatives, learning_rate)\n",
    "        \n",
    "    \n",
    "    return parameters\n",
    "\n",
    "def predict(parameters, X, threshold = 0.5):\n",
    "    \n",
    "    cache = forward_propagation(X, parameters)\n",
    "    A2 = cache[\"A2\"]\n",
    "    predictions = (A2 >= threshold)\n",
    "    \n",
    "    return predictions + 0"
   ]
  },
  {
   "cell_type": "code",
   "execution_count": 12,
   "metadata": {},
   "outputs": [
    {
     "name": "stdout",
     "output_type": "stream",
     "text": [
      "The accuracy of inside data prediction: 0.903339191564\n"
     ]
    }
   ],
   "source": [
    "p = nn_model(X, Y, 5)\n",
    "size = Y.shape[1]\n",
    "accuracy = np.sum(0 + (predict(p, X) == Y)) / size\n",
    "print(\"The accuracy of inside data prediction: \" + str(accuracy))"
   ]
  },
  {
   "cell_type": "code",
   "execution_count": 292,
   "metadata": {},
   "outputs": [
    {
     "name": "stderr",
     "output_type": "stream",
     "text": [
      "/Users/yuxia/anaconda/lib/python3.6/site-packages/sklearn/utils/validation.py:526: DataConversionWarning: A column-vector y was passed when a 1d array was expected. Please change the shape of y to (n_samples, ), for example using ravel().\n",
      "  y = column_or_1d(y, warn=True)\n"
     ]
    },
    {
     "data": {
      "text/plain": [
       "0.95957820738137078"
      ]
     },
     "execution_count": 292,
     "metadata": {},
     "output_type": "execute_result"
    }
   ],
   "source": [
    "lr = LogisticRegression()\n",
    "lr.fit(X.T, Y.T)\n",
    "lr.score(X.T, Y.T)"
   ]
  }
 ],
 "metadata": {
  "kernelspec": {
   "display_name": "Python 3",
   "language": "python",
   "name": "python3"
  },
  "language_info": {
   "codemirror_mode": {
    "name": "ipython",
    "version": 3
   },
   "file_extension": ".py",
   "mimetype": "text/x-python",
   "name": "python",
   "nbconvert_exporter": "python",
   "pygments_lexer": "ipython3",
   "version": "3.6.1"
  }
 },
 "nbformat": 4,
 "nbformat_minor": 2
}
